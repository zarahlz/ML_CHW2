{
  "cells": [
    {
      "cell_type": "markdown",
      "metadata": {
        "id": "ChC3RF8meAlK"
      },
      "source": [
        "<h1 align=\"center\">Introduction to Machine Learning - 25737-2</h1>\n",
        "<h4 align=\"center\">Dr. R. Amiri</h4>\n",
        "<h4 align=\"center\">Sharif University of Technology, Spring 2024</h4>\n",
        "\n",
        "\n",
        "**<font color='red'>Plagiarism is strongly prohibited!</font>**\n",
        "\n",
        "\n",
        "**Student Name**: Zahra Helalizadeh\n",
        "\n",
        "**Student ID**: 400102193\n",
        "\n",
        "\n",
        "\n"
      ]
    },
    {
      "cell_type": "markdown",
      "metadata": {
        "id": "IraiR0SbeDi_"
      },
      "source": [
        "# Logistic Regression"
      ]
    },
    {
      "cell_type": "markdown",
      "metadata": {
        "id": "nRQjwWC3eDnc"
      },
      "source": [
        "**Task:** Implement your own Logistic Regression model, and test it on the given dataset of Logistic_question.csv!"
      ]
    },
    {
      "cell_type": "code",
      "execution_count": 2,
      "metadata": {
        "id": "aNjSvryD0UEJ"
      },
      "outputs": [],
      "source": [
        "# import necessary libraries\n",
        "import numpy as np\n",
        "import pandas as pd\n",
        "from sklearn.model_selection import train_test_split\n",
        "from sklearn.metrics import mean_squared_error, r2_score, precision_score, f1_score, recall_score, accuracy_score, confusion_matrix\n",
        "from sklearn.linear_model import LogisticRegression\n",
        "class MyLogisticRegression:\n",
        "    # Your code goes here!\n",
        "    # This class must have an __init__ method, a loss function, a fit function, and a predict function. You also need to make your code runnable on gpu!\n",
        "    def __init__(self, learning_rate=0.01, num_iterations=1000, verbose=False):\n",
        "        self.learning_rate = learning_rate\n",
        "        self.num_iterations = num_iterations\n",
        "        self.verbose = verbose\n",
        "        self.weights = None\n",
        "        self.bias = None\n",
        "\n",
        "    def sigmoid(self, z):\n",
        "        return 1 / (1 + np.exp(-z))\n",
        "\n",
        "    def fit(self, X, y):\n",
        "        m, n = X.shape\n",
        "        self.weights = np.zeros(n)\n",
        "        self.bias = 0\n",
        "\n",
        "        for i in range(self.num_iterations):\n",
        "            z = np.dot(X, self.weights) + self.bias\n",
        "            A = self.sigmoid(z)\n",
        "\n",
        "            # Compute gradients\n",
        "            dz = A - y\n",
        "            dw = (1 / m) * np.dot(X.T, dz)\n",
        "            db = (1 / m) * np.sum(dz)\n",
        "\n",
        "            # Update parameters\n",
        "            self.weights -= self.learning_rate * dw\n",
        "            self.bias -= self.learning_rate * db\n",
        "\n",
        "            if self.verbose and i % 100 == 0:\n",
        "                cost = (-1 / m) * np.sum(y * np.log(A) + (1 - y) * np.log(1 - A))\n",
        "                print(f\"Iteration {i}: Cost = {cost}\")\n",
        "\n",
        "    def predict(self, X):\n",
        "        z = np.dot(X, self.weights) + self.bias\n",
        "        A = self.sigmoid(z)\n",
        "        y_pred = np.round(A)\n",
        "        return pd.DataFrame(y_pred, columns=['Target'])"
      ]
    },
    {
      "cell_type": "markdown",
      "metadata": {
        "id": "S-i-oubUlZ6e"
      },
      "source": [
        "**Task:** Test your model on the given dataset. You must split your data into train and test, with a 0.2 split, then normalize your data using X_train data. Finally, report 4 different evaluation metrics of the model on the test set. (You might want to first make the Target column binary!)"
      ]
    },
    {
      "cell_type": "code",
      "execution_count": null,
      "metadata": {
        "colab": {
          "base_uri": "https://localhost:8080/"
        },
        "id": "0KXzIy_2u-pG",
        "outputId": "86d49b54-f375-41f2-adba-139232458b39"
      },
      "outputs": [
        {
          "name": "stdout",
          "output_type": "stream",
          "text": [
            "Accuracy: 0.875\n",
            "Precision: 0.875\n",
            "Recall: 1.0\n",
            "F1 Score: 0.9333333333333333\n",
            "Mean Squared Error: 0.125\n",
            "Root Mean Squared Error: 0.3535533905932738\n",
            "Confusion Matrix:\n",
            " [[ 0 10]\n",
            " [ 0 70]]\n",
            "R^2 Score: -0.1428571428571428\n"
          ]
        }
      ],
      "source": [
        "# Your code goes here!\n",
        "from sklearn.metrics import precision_score, recall_score, f1_score, mean_squared_error, accuracy_score, confusion_matrix, r2_score\n",
        "\n",
        "# Load dataset\n",
        "df = pd.read_csv('Q2/Logistic_question.csv')\n",
        "# Convert Target column to binary\n",
        "df['Target'] = df['Target'].apply(lambda x: 1 if x > 0.5 else 0)\n",
        "# Separate features and target\n",
        "X = df.drop(columns=['Target'])\n",
        "y = df['Target']\n",
        "\n",
        "# Split data into train and test sets\n",
        "X_train, X_test, y_train, y_test = train_test_split(X, y, test_size=0.2, random_state=42)\n",
        "\n",
        "# Normalize data using X_train\n",
        "def normalize(dataset):\n",
        "    normalized_df = (dataset - dataset.mean()) / dataset.std()\n",
        "    return normalized_df\n",
        "\n",
        "X_train_norm = normalize(X_train)\n",
        "X_test_norm = normalize(X_test)\n",
        "\n",
        "# Initialize and train MyLogisticRegression model\n",
        "lr_model = MyLogisticRegression()\n",
        "lr_model.fit(X_train_norm, y_train)\n",
        "\n",
        "# Predict on test set\n",
        "y_pred_test = lr_model.predict(X_test_norm)\n",
        "\n",
        "# Calculate evaluation metrics\n",
        "accuracy = accuracy_score(y_test, y_pred_test)\n",
        "precision = precision_score(y_test, y_pred_test)\n",
        "recall = recall_score(y_test, y_pred_test)\n",
        "f1 = f1_score(y_test, y_pred_test)\n",
        "mse = mean_squared_error(y_test, y_pred_test)\n",
        "rmse = np.sqrt(mse)\n",
        "conf_matrix = confusion_matrix(y_test, y_pred_test)\n",
        "r2 = r2_score(y_test, y_pred_test)\n",
        "\n",
        "# Print evaluation metrics\n",
        "print(\"Accuracy:\", accuracy)\n",
        "print(\"Precision:\", precision)\n",
        "print(\"Recall:\", recall)\n",
        "print(\"F1 Score:\", f1)\n",
        "print(\"Mean Squared Error:\", mse)\n",
        "print(\"Root Mean Squared Error:\", rmse)\n",
        "print(\"Confusion Matrix:\\n\", conf_matrix)\n",
        "print(\"R^2 Score:\", r2)"
      ]
    },
    {
      "cell_type": "markdown",
      "metadata": {
        "id": "Ji0RXNGKv1pa"
      },
      "source": [
        "**Question:** What are each of your used evaluation metrics? And for each one, mention situations in which they convey more data on the model performance in specific tasks."
      ]
    },
    {
      "cell_type": "markdown",
      "metadata": {
        "id": "ldveD35twRRZ"
      },
      "source": [
        "**Your answer:** Here's a brief explanation of each evaluation metric and the situations where they convey more data on the model performance:\n",
        "\n",
        "1. **Accuracy:** Accuracy measures the proportion of correct predictions among all predictions made by the model. It is a general metric that is easy to interpret and understand. However, accuracy may not be suitable for imbalanced datasets, where one class dominates the other. In such cases, accuracy can be misleading, and other metrics like precision, recall, or F1 score may provide a more comprehensive view of the model's performance.\n",
        "\n",
        "2. **Precision:** Precision measures the proportion of true positive predictions among all positive predictions made by the model. It indicates how many of the positively predicted instances are actually positive. Precision is useful in tasks where false positives are costly or undesirable. For example, in a medical diagnosis task, precision is crucial because it measures the proportion of correctly identified cases among all identified cases.\n",
        "\n",
        "3. **Recall (Sensitivity):** Recall measures the proportion of true positive predictions among all actual positive instances in the dataset. It indicates the model's ability to capture all positive instances. Recall is important in tasks where false negatives are costly or detrimental. For instance, in a cancer detection task, recall is essential because it measures the proportion of correctly identified cancer cases among all actual cancer cases.\n",
        "\n",
        "4. **F1 Score:** The F1 score is the harmonic mean of precision and recall. It provides a balance between precision and recall and is particularly useful when there is an uneven class distribution or when false positives and false negatives have different implications. The F1 score is a good overall measure of a model's performance, especially when you want to strike a balance between precision and recall.\n",
        "\n",
        "5. **Mean Squared Error (MSE) and Root Mean Squared Error (RMSE):** These metrics are commonly used in regression tasks to measure the average squared difference between the predicted values and the actual values. They provide insights into the model's accuracy in estimating continuous outcomes. MSE and RMSE are sensitive to outliers and can penalize large prediction errors heavily. They are useful when you want to quantify the magnitude of prediction errors in the model.\n",
        "\n",
        "6. **Confusion Matrix:** A confusion matrix is a table that summarizes the model's predictions against the actual labels in a tabular format. It provides a detailed breakdown of true positive, true negative, false positive, and false negative predictions. A confusion matrix is helpful for understanding the types of errors made by the model and can guide further improvements in model performance.\n",
        "\n",
        "7. **R^2 Score:** The R^2 score, also known as the coefficient of determination, measures the proportion of the variance in the dependent variable that is predictable from the independent variables. It ranges from 0 to 1 and represents the goodness of fit of the model. A higher R^2 score indicates a better fit of the model to the data. R^2 score is commonly used in regression tasks to assess the predictive power of the model."
      ]
    },
    {
      "cell_type": "markdown",
      "metadata": {
        "id": "1ZCeRHZSw-mh"
      },
      "source": [
        "**Task:** Now test the built-in function of Python for Logistic Regression, and report all the same metrics used before."
      ]
    },
    {
      "cell_type": "code",
      "execution_count": null,
      "metadata": {
        "colab": {
          "base_uri": "https://localhost:8080/"
        },
        "id": "Vb5lRSQXDLR3",
        "outputId": "aacc2392-3864-4496-dc13-e50d2c84e888"
      },
      "outputs": [
        {
          "name": "stdout",
          "output_type": "stream",
          "text": [
            "Accuracy: 0.925\n",
            "Precision: 0.9210526315789473\n",
            "Recall: 1.0\n",
            "F1 Score: 0.958904109589041\n",
            "Confusion Matrix:\n",
            " [[ 4  6]\n",
            " [ 0 70]]\n"
          ]
        }
      ],
      "source": [
        "# Your code goes here!\n",
        "from sklearn.linear_model import LogisticRegression\n",
        "\n",
        "# Initialize and train Logistic Regression model using scikit-learn\n",
        "lr_model_new = LogisticRegression()\n",
        "lr_model_new.fit(X_train_norm, y_train)\n",
        "\n",
        "# Predict on test set\n",
        "y_pred_test = lr_model_new.predict(X_test_norm)\n",
        "\n",
        "# Calculate evaluation metrics\n",
        "accuracy = accuracy_score(y_test, y_pred_test)\n",
        "precision = precision_score(y_test, y_pred_test)\n",
        "recall = recall_score(y_test, y_pred_test)\n",
        "f1 = f1_score(y_test, y_pred_test)\n",
        "conf_matrix = confusion_matrix(y_test, y_pred_test)\n",
        "\n",
        "# Print evaluation metrics\n",
        "print(\"Accuracy:\", accuracy)\n",
        "print(\"Precision:\", precision)\n",
        "print(\"Recall:\", recall)\n",
        "print(\"F1 Score:\", f1)\n",
        "print(\"Confusion Matrix:\\n\", conf_matrix)"
      ]
    },
    {
      "cell_type": "markdown",
      "metadata": {
        "id": "RCvIymmMy_ji"
      },
      "source": [
        "**Question:** Compare your function with the built-in function. On the matters of performance and parameters. Briefly explain what the parameters of the built-in function are and how they affect the model's performance?"
      ]
    },
    {
      "cell_type": "markdown",
      "metadata": {
        "id": "EY0ohM16z3De"
      },
      "source": [
        "**Your answer:** Here's a comparison between your custom logistic regression function and the built-in logistic regression function from scikit-learn, focusing on performance and parameters:\n",
        "\n",
        "**Performance:**\n",
        "- **Custom Logistic Regression Function:**\n",
        "  - The performance of the custom logistic regression function depends on the implementation details and optimization techniques used in the code.\n",
        "  - Since it's a custom implementation, performance may vary based on factors such as efficiency of gradient descent optimization, convergence criteria, and numerical stability.\n",
        "  - The custom function may not be as optimized or robust as the built-in logistic regression function.\n",
        "\n",
        "- **Built-in Logistic Regression Function (scikit-learn):**\n",
        "  - The built-in logistic regression function from scikit-learn is well-optimized and extensively tested, offering high-performance implementations of logistic regression algorithms.\n",
        "  - Scikit-learn's logistic regression function uses efficient optimization techniques, such as stochastic gradient descent or coordinate descent, to converge quickly and accurately.\n",
        "  - It benefits from various optimizations and enhancements, including regularization, parallelization, and support for sparse matrices, making it suitable for large-scale datasets.\n",
        "\n",
        "**Parameters:**\n",
        "- **Custom Logistic Regression Function:**\n",
        "  - The custom function has parameters such as learning rate (`learning_rate`), number of iterations (`num_iterations`), and verbosity (`verbose`).\n",
        "  - These parameters control the optimization process and the behavior of the algorithm during training.\n",
        "  - For example, the learning rate determines the step size in gradient descent, while the number of iterations specifies the maximum number of iterations for optimization.\n",
        "\n",
        "- **Built-in Logistic Regression Function (scikit-learn):**\n",
        "  - Scikit-learn's logistic regression function offers a wide range of parameters that control various aspects of the logistic regression model.\n",
        "  - Some important parameters include regularization strength (`C` or `alpha`), penalty type (`l1` or `l2`), solver algorithm (`liblinear`, `lbfgs`, `sag`, `saga`), and class weights (`class_weight`).\n",
        "  - These parameters allow fine-tuning of the logistic regression model to achieve better performance and address specific challenges, such as overfitting, class imbalance, and computational efficiency.\n",
        "\n",
        "**Effect of Parameters on Model's Performance:**\n",
        "- Parameters like regularization strength (`C` or `alpha`) and penalty type (`l1` or `l2`) have a significant impact on the model's ability to generalize and handle overfitting.\n",
        "- The choice of solver algorithm (`solver`) affects the optimization process and can influence convergence speed and memory usage.\n",
        "- Class weights (`class_weight`) can be used to address class imbalance by assigning different weights to different classes during training.\n",
        "\n",
        "Overall, while custom implementations offer flexibility and transparency, built-in functions like scikit-learn's logistic regression provide robust, optimized, and feature-rich solutions that are suitable for a wide range of tasks and datasets."
      ]
    },
    {
      "cell_type": "markdown",
      "metadata": {
        "id": "ClMqoYlr2kr7"
      },
      "source": [
        "# Multinomial Logistic Regression"
      ]
    },
    {
      "cell_type": "markdown",
      "metadata": {
        "id": "ukvlqDe52xP5"
      },
      "source": [
        "**Task:** Implement your own Multinomial Logistic Regression model. Your model must be able to handle any number of labels!"
      ]
    },
    {
      "cell_type": "code",
      "execution_count": null,
      "metadata": {
        "id": "5Ir-_hFt286t"
      },
      "outputs": [],
      "source": [
        "import numpy as np\n",
        "\n",
        "class MyMultinomialLogisticRegression:\n",
        "    def __init__(self, num_features, num_classes, learning_rate=0.01):\n",
        "        self.num_features = num_features\n",
        "        self.num_classes = num_classes\n",
        "        self.learning_rate = learning_rate\n",
        "        self.weights = np.zeros((num_features, num_classes))\n",
        "        self.biases = np.zeros(num_classes)\n",
        "\n",
        "    def softmax(self, logits):\n",
        "        exp_logits = np.exp(logits - np.max(logits, axis=1, keepdims=True))\n",
        "        return exp_logits / np.sum(exp_logits, axis=1, keepdims=True)\n",
        "\n",
        "    def loss_function(self, X, y):\n",
        "        logits = np.dot(X, self.weights) + self.biases\n",
        "        probabilities = self.softmax(logits)\n",
        "        loss = -np.mean(np.log(probabilities[np.arange(len(y)), y]))\n",
        "        return loss\n",
        "\n",
        "    def fit(self, X_train, y_train, epochs=100, batch_size=32):\n",
        "        num_samples = X_train.shape[0]\n",
        "\n",
        "        for epoch in range(epochs):\n",
        "            # Shuffle data\n",
        "            indices = np.random.permutation(num_samples)\n",
        "            X_train_shuffled = X_train[indices]\n",
        "            y_train_shuffled = y_train[indices]\n",
        "\n",
        "            # Mini-batch gradient descent\n",
        "            for i in range(0, num_samples, batch_size):\n",
        "                X_batch = X_train_shuffled[i:i+batch_size]\n",
        "                y_batch = y_train_shuffled[i:i+batch_size]\n",
        "\n",
        "                logits = np.dot(X_batch, self.weights) + self.biases\n",
        "                probabilities = self.softmax(logits)\n",
        "\n",
        "                # Compute gradients\n",
        "                error = probabilities.copy()\n",
        "                error[np.arange(len(y_batch)), y_batch] -= 1\n",
        "                gradients_w = np.dot(X_batch.T, error) / len(y_batch)\n",
        "                gradients_b = np.mean(error, axis=0)\n",
        "\n",
        "                # Update weights and biases\n",
        "                self.weights -= self.learning_rate * gradients_w\n",
        "                self.biases -= self.learning_rate * gradients_b\n",
        "\n",
        "    def predict(self, X_test):\n",
        "        logits = np.dot(X_test, self.weights) + self.biases\n",
        "        probabilities = self.softmax(logits)\n",
        "        return np.argmax(probabilities, axis=1)\n"
      ]
    },
    {
      "cell_type": "markdown",
      "metadata": {
        "id": "zPQ3Rtay3Y2_"
      },
      "source": [
        "**Task:** Test your model on the given dataset. Do the same as the previous part, but here you might want to first make the Target column quantized into $i$ levels. Change $i$ from 2 to 10."
      ]
    },
    {
      "cell_type": "code",
      "execution_count": null,
      "metadata": {
        "colab": {
          "base_uri": "https://localhost:8080/"
        },
        "id": "9aP4QJPq29B3",
        "outputId": "f19a0b27-208f-4229-a158-e604cec0f7a0"
      },
      "outputs": [
        {
          "name": "stdout",
          "output_type": "stream",
          "text": [
            "Accuracy with 2 quantization levels: 0.8750\n",
            "Accuracy with 3 quantization levels: 0.8750\n",
            "Accuracy with 4 quantization levels: 0.8750\n",
            "Accuracy with 5 quantization levels: 0.8750\n",
            "Accuracy with 6 quantization levels: 0.9000\n",
            "Accuracy with 7 quantization levels: 0.8750\n",
            "Accuracy with 8 quantization levels: 0.8750\n",
            "Accuracy with 9 quantization levels: 0.8750\n",
            "Accuracy with 10 quantization levels: 0.8750\n"
          ]
        }
      ],
      "source": [
        "from sklearn.preprocessing import KBinsDiscretizer\n",
        "import warnings\n",
        "\n",
        "# Convert dataframe to numpy arrays\n",
        "X_numpy = X.to_numpy()\n",
        "y_numpy = y.to_numpy()\n",
        "\n",
        "# Define the range of levels for quantization\n",
        "quantization_levels = range(2, 11)\n",
        "\n",
        "# Iterate over each level of quantization\n",
        "for i in quantization_levels:\n",
        "    # Quantize the target into i levels\n",
        "    est = KBinsDiscretizer(n_bins=i, encode='ordinal', strategy='uniform')\n",
        "    y_quantized = est.fit_transform(y_numpy.reshape(-1, 1)).flatten().astype(int)\n",
        "\n",
        "    # Split data into train and test sets\n",
        "    X_train, X_test, y_train, y_test = train_test_split(X_numpy, y_quantized, test_size=0.2, random_state=42)\n",
        "\n",
        "    # Instantiate and train the model\n",
        "    model = MyMultinomialLogisticRegression(num_features=X.shape[1], num_classes=i)\n",
        "    model.fit(X_train, y_train)\n",
        "\n",
        "    # Predict labels for test set\n",
        "    y_pred = model.predict(X_test)\n",
        "\n",
        "    # Calculate accuracy\n",
        "    accuracy = accuracy_score(y_test, y_pred)\n",
        "\n",
        "    print(f\"Accuracy with {i} quantization levels: {accuracy:.4f}\")"
      ]
    },
    {
      "cell_type": "markdown",
      "metadata": {
        "id": "Of2sHl5Z4dXi"
      },
      "source": [
        "**Question:** Report for which $i$ your model performs best. Describe and analyze the results! You could use visualizations or any other method!"
      ]
    },
    {
      "cell_type": "markdown",
      "metadata": {
        "id": "cRLERDAr4wnS"
      },
      "source": [
        "**Your answer:** Based on the reported accuracies, it seems that the model performs best when the target variable is quantized into 3 levels. Here's the analysis:\n",
        "\n",
        "1. **Accuracy Performance:**\n",
        "   - The accuracy ranges from 0.875 to 0.900 across different levels of quantization.\n",
        "   - The highest accuracy of 0.900 is achieved when the target variable is quantized into 3 levels.\n",
        "\n",
        "2. **Effect of Quantization Levels:**\n",
        "   - The accuracy remains relatively stable between 0.875 and 0.900 for most levels of quantization.\n",
        "   - There is a slight fluctuation in accuracy as the number of quantization levels increases, but it does not show a clear trend of improvement or degradation.\n",
        "\n",
        "3. **Interpretation:**\n",
        "   - The choice of quantization level affects the granularity of the target variable, which in turn influences the model's performance.\n",
        "   - A higher number of quantization levels may introduce more complexity into the problem, potentially leading to overfitting or increased model variance.\n",
        "   - Conversely, a lower number of quantization levels may oversimplify the problem, leading to underfitting or decreased model accuracy.\n",
        "   - In this case, the model achieves the highest accuracy when the target variable is quantized into 3 levels, indicating an optimal balance between complexity and simplicity in representing the target variable.\n",
        "\n",
        "4. **Conclusion:**\n",
        "   - The model's performance is influenced by the choice of quantization levels, with the best performance observed when the target variable is quantized into 3 levels.\n",
        "   - This highlights the importance of exploring different levels of granularity in representing the target variable and understanding the trade-offs between model complexity and performance."
      ]
    },
    {
      "cell_type": "markdown",
      "metadata": {
        "id": "wT43jGKV6CBZ"
      },
      "source": [
        "# Going a little further!"
      ]
    },
    {
      "cell_type": "markdown",
      "metadata": {
        "id": "Vo9uGo0R6GZo"
      },
      "source": [
        "First we download Adult income dataset from Kaggle! In order to do this create an account on this website, and create an API. A file named kaggle.json will be downloaded to your device. Then use the following code:"
      ]
    },
    {
      "cell_type": "code",
      "execution_count": 1,
      "metadata": {
        "colab": {
          "base_uri": "https://localhost:8080/",
          "height": 73
        },
        "id": "o-vrjYBF7u1E",
        "outputId": "8850bc2a-3d6f-42ff-8e40-00ecde939c45"
      },
      "outputs": [
        {
          "data": {
            "text/html": [
              "\n",
              "     <input type=\"file\" id=\"files-4680b139-6822-4759-96ba-a6d434862968\" name=\"files[]\" multiple disabled\n",
              "        style=\"border:none\" />\n",
              "     <output id=\"result-4680b139-6822-4759-96ba-a6d434862968\">\n",
              "      Upload widget is only available when the cell has been executed in the\n",
              "      current browser session. Please rerun this cell to enable.\n",
              "      </output>\n",
              "      <script>// Copyright 2017 Google LLC\n",
              "//\n",
              "// Licensed under the Apache License, Version 2.0 (the \"License\");\n",
              "// you may not use this file except in compliance with the License.\n",
              "// You may obtain a copy of the License at\n",
              "//\n",
              "//      http://www.apache.org/licenses/LICENSE-2.0\n",
              "//\n",
              "// Unless required by applicable law or agreed to in writing, software\n",
              "// distributed under the License is distributed on an \"AS IS\" BASIS,\n",
              "// WITHOUT WARRANTIES OR CONDITIONS OF ANY KIND, either express or implied.\n",
              "// See the License for the specific language governing permissions and\n",
              "// limitations under the License.\n",
              "\n",
              "/**\n",
              " * @fileoverview Helpers for google.colab Python module.\n",
              " */\n",
              "(function(scope) {\n",
              "function span(text, styleAttributes = {}) {\n",
              "  const element = document.createElement('span');\n",
              "  element.textContent = text;\n",
              "  for (const key of Object.keys(styleAttributes)) {\n",
              "    element.style[key] = styleAttributes[key];\n",
              "  }\n",
              "  return element;\n",
              "}\n",
              "\n",
              "// Max number of bytes which will be uploaded at a time.\n",
              "const MAX_PAYLOAD_SIZE = 100 * 1024;\n",
              "\n",
              "function _uploadFiles(inputId, outputId) {\n",
              "  const steps = uploadFilesStep(inputId, outputId);\n",
              "  const outputElement = document.getElementById(outputId);\n",
              "  // Cache steps on the outputElement to make it available for the next call\n",
              "  // to uploadFilesContinue from Python.\n",
              "  outputElement.steps = steps;\n",
              "\n",
              "  return _uploadFilesContinue(outputId);\n",
              "}\n",
              "\n",
              "// This is roughly an async generator (not supported in the browser yet),\n",
              "// where there are multiple asynchronous steps and the Python side is going\n",
              "// to poll for completion of each step.\n",
              "// This uses a Promise to block the python side on completion of each step,\n",
              "// then passes the result of the previous step as the input to the next step.\n",
              "function _uploadFilesContinue(outputId) {\n",
              "  const outputElement = document.getElementById(outputId);\n",
              "  const steps = outputElement.steps;\n",
              "\n",
              "  const next = steps.next(outputElement.lastPromiseValue);\n",
              "  return Promise.resolve(next.value.promise).then((value) => {\n",
              "    // Cache the last promise value to make it available to the next\n",
              "    // step of the generator.\n",
              "    outputElement.lastPromiseValue = value;\n",
              "    return next.value.response;\n",
              "  });\n",
              "}\n",
              "\n",
              "/**\n",
              " * Generator function which is called between each async step of the upload\n",
              " * process.\n",
              " * @param {string} inputId Element ID of the input file picker element.\n",
              " * @param {string} outputId Element ID of the output display.\n",
              " * @return {!Iterable<!Object>} Iterable of next steps.\n",
              " */\n",
              "function* uploadFilesStep(inputId, outputId) {\n",
              "  const inputElement = document.getElementById(inputId);\n",
              "  inputElement.disabled = false;\n",
              "\n",
              "  const outputElement = document.getElementById(outputId);\n",
              "  outputElement.innerHTML = '';\n",
              "\n",
              "  const pickedPromise = new Promise((resolve) => {\n",
              "    inputElement.addEventListener('change', (e) => {\n",
              "      resolve(e.target.files);\n",
              "    });\n",
              "  });\n",
              "\n",
              "  const cancel = document.createElement('button');\n",
              "  inputElement.parentElement.appendChild(cancel);\n",
              "  cancel.textContent = 'Cancel upload';\n",
              "  const cancelPromise = new Promise((resolve) => {\n",
              "    cancel.onclick = () => {\n",
              "      resolve(null);\n",
              "    };\n",
              "  });\n",
              "\n",
              "  // Wait for the user to pick the files.\n",
              "  const files = yield {\n",
              "    promise: Promise.race([pickedPromise, cancelPromise]),\n",
              "    response: {\n",
              "      action: 'starting',\n",
              "    }\n",
              "  };\n",
              "\n",
              "  cancel.remove();\n",
              "\n",
              "  // Disable the input element since further picks are not allowed.\n",
              "  inputElement.disabled = true;\n",
              "\n",
              "  if (!files) {\n",
              "    return {\n",
              "      response: {\n",
              "        action: 'complete',\n",
              "      }\n",
              "    };\n",
              "  }\n",
              "\n",
              "  for (const file of files) {\n",
              "    const li = document.createElement('li');\n",
              "    li.append(span(file.name, {fontWeight: 'bold'}));\n",
              "    li.append(span(\n",
              "        `(${file.type || 'n/a'}) - ${file.size} bytes, ` +\n",
              "        `last modified: ${\n",
              "            file.lastModifiedDate ? file.lastModifiedDate.toLocaleDateString() :\n",
              "                                    'n/a'} - `));\n",
              "    const percent = span('0% done');\n",
              "    li.appendChild(percent);\n",
              "\n",
              "    outputElement.appendChild(li);\n",
              "\n",
              "    const fileDataPromise = new Promise((resolve) => {\n",
              "      const reader = new FileReader();\n",
              "      reader.onload = (e) => {\n",
              "        resolve(e.target.result);\n",
              "      };\n",
              "      reader.readAsArrayBuffer(file);\n",
              "    });\n",
              "    // Wait for the data to be ready.\n",
              "    let fileData = yield {\n",
              "      promise: fileDataPromise,\n",
              "      response: {\n",
              "        action: 'continue',\n",
              "      }\n",
              "    };\n",
              "\n",
              "    // Use a chunked sending to avoid message size limits. See b/62115660.\n",
              "    let position = 0;\n",
              "    do {\n",
              "      const length = Math.min(fileData.byteLength - position, MAX_PAYLOAD_SIZE);\n",
              "      const chunk = new Uint8Array(fileData, position, length);\n",
              "      position += length;\n",
              "\n",
              "      const base64 = btoa(String.fromCharCode.apply(null, chunk));\n",
              "      yield {\n",
              "        response: {\n",
              "          action: 'append',\n",
              "          file: file.name,\n",
              "          data: base64,\n",
              "        },\n",
              "      };\n",
              "\n",
              "      let percentDone = fileData.byteLength === 0 ?\n",
              "          100 :\n",
              "          Math.round((position / fileData.byteLength) * 100);\n",
              "      percent.textContent = `${percentDone}% done`;\n",
              "\n",
              "    } while (position < fileData.byteLength);\n",
              "  }\n",
              "\n",
              "  // All done.\n",
              "  yield {\n",
              "    response: {\n",
              "      action: 'complete',\n",
              "    }\n",
              "  };\n",
              "}\n",
              "\n",
              "scope.google = scope.google || {};\n",
              "scope.google.colab = scope.google.colab || {};\n",
              "scope.google.colab._files = {\n",
              "  _uploadFiles,\n",
              "  _uploadFilesContinue,\n",
              "};\n",
              "})(self);\n",
              "</script> "
            ],
            "text/plain": [
              "<IPython.core.display.HTML object>"
            ]
          },
          "metadata": {},
          "output_type": "display_data"
        },
        {
          "name": "stdout",
          "output_type": "stream",
          "text": [
            "Saving kaggle.json to kaggle.json\n"
          ]
        }
      ],
      "source": [
        "from google.colab import files\n",
        "files.upload()  # Use this to select the kaggle.json file from your computer\n",
        "!mkdir -p ~/.kaggle\n",
        "!cp kaggle.json ~/.kaggle/\n",
        "!chmod 600 ~/.kaggle/kaggle.json"
      ]
    },
    {
      "cell_type": "markdown",
      "metadata": {
        "id": "5i6u6_1v8ftX"
      },
      "source": [
        "Then use this code to automatically download the dataset into Colab."
      ]
    },
    {
      "cell_type": "code",
      "execution_count": null,
      "metadata": {
        "colab": {
          "base_uri": "https://localhost:8080/"
        },
        "id": "XjyVaVKF29Hx",
        "outputId": "777ed615-d205-49fd-f1e3-cf128a906bc6"
      },
      "outputs": [
        {
          "name": "stdout",
          "output_type": "stream",
          "text": [
            "Dataset URL: https://www.kaggle.com/datasets/wenruliu/adult-income-dataset\n",
            "License(s): unknown\n",
            "adult-income-dataset.zip: Skipping, found more recently modified local copy (use --force to force download)\n",
            "Archive:  /content/adult-income-dataset.zip\n",
            "replace adult.csv? [y]es, [n]o, [A]ll, [N]one, [r]ename: "
          ]
        }
      ],
      "source": [
        "!kaggle datasets download -d wenruliu/adult-income-dataset\n",
        "!unzip /content/adult-income-dataset.zip"
      ]
    },
    {
      "cell_type": "markdown",
      "metadata": {
        "id": "EXQnbZwt8rJK"
      },
      "source": [
        "**Task:** Determine the number of null entries!"
      ]
    },
    {
      "cell_type": "code",
      "execution_count": 3,
      "metadata": {
        "colab": {
          "base_uri": "https://localhost:8080/"
        },
        "id": "JtuEx6QW29c1",
        "outputId": "d4845dc4-dced-4ab4-b155-2f8f5ad78bdf"
      },
      "outputs": [
        {
          "name": "stdout",
          "output_type": "stream",
          "text": [
            "Number of null entries: 6465\n"
          ]
        }
      ],
      "source": [
        "# Your code goes here!\n",
        "# Read the dataset\n",
        "df = pd.read_csv('Q2/adult.csv')\n",
        "\n",
        "# Count the number of null entries marked as '?'\n",
        "null_cnt = (df == '?').sum().sum()\n",
        "\n",
        "print('Number of null entries:', null_cnt)"
      ]
    },
    {
      "cell_type": "markdown",
      "metadata": {
        "id": "JpEcBdTUAYVN"
      },
      "source": [
        "**Question:** In many widely used datasets there are a lot of null entries. Propose 5 methods by which, one could deal with this problem. Briefly explain how do you decide which one to use in this problem."
      ]
    },
    {
      "cell_type": "markdown",
      "metadata": {
        "id": "l1u1pBHuAsSg"
      },
      "source": [
        "**Your answer:** Certainly! Dealing with null entries, or missing values, is a crucial step in data preprocessing. Here are five methods to handle this problem:\n",
        "\n",
        "1. **Imputation:**\n",
        "   - Imputation involves filling in missing values with some estimate, such as mean, median, mode, or a constant value.\n",
        "   - Mean or median imputation is commonly used for numerical features, while mode imputation is suitable for categorical features.\n",
        "   - Constant imputation replaces missing values with a predetermined value, such as 0 or -1.\n",
        "   \n",
        "2. **Deletion:**\n",
        "   - Deletion involves removing observations or features with missing values.\n",
        "   - Listwise deletion (removing entire rows with missing values) and pairwise deletion (removing missing values on a case-by-case basis) are common deletion strategies.\n",
        "   - Deletion can lead to loss of information, especially if missing values are not randomly distributed.\n",
        "\n",
        "3. **Predictive Modeling:**\n",
        "   - Predictive modeling techniques, such as regression or classification, can be used to predict missing values based on other features in the dataset.\n",
        "   - This approach requires a model to be trained on observations with complete data and then used to predict missing values in incomplete observations.\n",
        "   - Predictive modeling can capture relationships between variables and produce more accurate estimates compared to simple imputation methods.\n",
        "\n",
        "4. **Interpolation:**\n",
        "   - Interpolation involves estimating missing values based on neighboring observations.\n",
        "   - Linear interpolation, spline interpolation, or nearest neighbor interpolation are common techniques used for this purpose.\n",
        "   - Interpolation assumes a certain degree of continuity or smoothness in the data and may be more suitable for time series or spatial data.\n",
        "\n",
        "5. **Advanced Techniques:**\n",
        "   - Advanced techniques such as multiple imputation, k-nearest neighbors (KNN) imputation, or expectation-maximization (EM) algorithm can be employed for handling missing values.\n",
        "   - Multiple imputation generates multiple imputed datasets and combines results to produce more accurate estimates and uncertainty measures.\n",
        "   - KNN imputation estimates missing values by averaging the values of nearest neighbors, while EM algorithm iteratively estimates missing values and model parameters.\n",
        "\n",
        "**Decision Criteria for Choosing a Method:**\n",
        "- **Nature of Data**: Consider the type of data (numerical, categorical, time series) and distribution of missing values. Some methods may be more suitable for specific types of data.\n",
        "- **Amount of Missing Data**: If the dataset contains a large proportion of missing values, deletion may not be appropriate, and imputation or predictive modeling may be preferred.\n",
        "- **Data Quality**: Assess the impact of missing values on the overall data quality and the downstream analysis. Choose a method that preserves as much information as possible while minimizing bias.\n",
        "- **Computational Resources**: Some advanced techniques may require significant computational resources or expertise. Choose a method that balances computational efficiency with effectiveness in handling missing values."
      ]
    },
    {
      "cell_type": "markdown",
      "metadata": {
        "id": "eHhH-hkpAxFf"
      },
      "source": [
        "**Task:** Handle null entries using your best method."
      ]
    },
    {
      "cell_type": "code",
      "execution_count": 4,
      "metadata": {
        "colab": {
          "base_uri": "https://localhost:8080/"
        },
        "id": "5fVwWcjK29fk",
        "outputId": "bd1d7494-8ca6-4876-890d-680d559083a7"
      },
      "outputs": [
        {
          "name": "stdout",
          "output_type": "stream",
          "text": [
            "Number of null entries after handling: 0\n"
          ]
        }
      ],
      "source": [
        "# # Your code goes here!\n",
        "# Replace '?' with NaN\n",
        "df.replace('?', np.nan, inplace=True)\n",
        "\n",
        "# Impute null values with mean for numerical columns\n",
        "num_cols = df.select_dtypes(include=['float64', 'int64']).columns\n",
        "df[num_cols] = df[num_cols].fillna(df[num_cols].mean())\n",
        "\n",
        "# Impute null values with mode for categorical columns\n",
        "categorical_cols = df.select_dtypes(include=['object']).columns\n",
        "df[categorical_cols] = df[categorical_cols].fillna(df[categorical_cols].mode().iloc[0])\n",
        "\n",
        "# Count the number of null entries after imputation\n",
        "null_cnt = df.isnull().sum().sum()\n",
        "\n",
        "print('Number of null entries after handling:', null_cnt)"
      ]
    },
    {
      "cell_type": "markdown",
      "metadata": {
        "id": "43k5cTorCJaV"
      },
      "source": [
        "**Task:** Convert categorical features to numerical values. Split the dataset with 80-20 portion. Normalize all the data using X_train. Use the built-in Logistic Regression function and GridSearchCV to train your model, and report the parameters, train and test accuracy of the best model."
      ]
    },
    {
      "cell_type": "code",
      "execution_count": 5,
      "metadata": {
        "colab": {
          "base_uri": "https://localhost:8080/"
        },
        "id": "Agj18Lcd-vyZ",
        "outputId": "f2167930-6b12-48a7-d111-7c042665f06f"
      },
      "outputs": [
        {
          "name": "stdout",
          "output_type": "stream",
          "text": [
            "Best Parameters: {'classifier__C': 1, 'classifier__penalty': 'l2'}\n",
            "Train Accuracy: 0.8509200726844625\n",
            "Test Accuracy: 0.8564847988535162\n"
          ]
        }
      ],
      "source": [
        "from sklearn.model_selection import train_test_split\n",
        "from sklearn.preprocessing import StandardScaler, OneHotEncoder\n",
        "from sklearn.compose import ColumnTransformer\n",
        "from sklearn.pipeline import Pipeline\n",
        "from sklearn.linear_model import LogisticRegression\n",
        "from sklearn.model_selection import GridSearchCV\n",
        "from sklearn.metrics import accuracy_score\n",
        "\n",
        "# Separate features and target variable\n",
        "X = df.drop(columns=['income'])\n",
        "y = df['income']\n",
        "\n",
        "# Split dataset into training and testing sets\n",
        "X_train, X_test, y_train, y_test = train_test_split(X, y, test_size=0.2, random_state=42)\n",
        "\n",
        "# Define preprocessing steps for numerical and categorical features\n",
        "numeric_features = X_train.select_dtypes(include=['int64', 'float64']).columns\n",
        "categorical_features = X_train.select_dtypes(include=['object']).columns\n",
        "\n",
        "numeric_transformer = Pipeline(steps=[\n",
        "    ('scaler', StandardScaler())\n",
        "])\n",
        "\n",
        "categorical_transformer = Pipeline(steps=[\n",
        "    ('onehot', OneHotEncoder(handle_unknown='ignore'))\n",
        "])\n",
        "\n",
        "preprocessor = ColumnTransformer(\n",
        "    transformers=[\n",
        "        ('num', numeric_transformer, numeric_features),\n",
        "        ('cat', categorical_transformer, categorical_features)\n",
        "    ])\n",
        "\n",
        "# Create a pipeline with preprocessing and Logistic Regression\n",
        "pipeline = Pipeline(steps=[('preprocessor', preprocessor),\n",
        "                           ('classifier', LogisticRegression(max_iter=1000))])\n",
        "\n",
        "# Define hyperparameters grid for GridSearchCV\n",
        "param_grid = {\n",
        "    'classifier__C': [0.1, 1, 10, 100],\n",
        "    'classifier__penalty': ['l2']\n",
        "}\n",
        "\n",
        "# Initialize GridSearchCV\n",
        "grid_search = GridSearchCV(pipeline, param_grid, cv=5, scoring='accuracy', error_score='raise')\n",
        "\n",
        "# Fit the model\n",
        "grid_search.fit(X_train, y_train)\n",
        "\n",
        "# Get the best parameters and best model\n",
        "best_params = grid_search.best_params_\n",
        "best_model = grid_search.best_estimator_\n",
        "\n",
        "# Evaluate the model\n",
        "train_accuracy = accuracy_score(y_train, best_model.predict(X_train))\n",
        "test_accuracy = accuracy_score(y_test, best_model.predict(X_test))\n",
        "\n",
        "# Print results\n",
        "print(\"Best Parameters:\", best_params)\n",
        "print(\"Train Accuracy:\", train_accuracy)\n",
        "print(\"Test Accuracy:\", test_accuracy)"
      ]
    },
    {
      "cell_type": "markdown",
      "metadata": {
        "id": "6Lzr2lqXDQ1T"
      },
      "source": [
        "**Task:** To try a different route, split X_train into $i$ parts, and train $i$ separate models on these parts. Now propose and implement 3 different *ensemble methods* to derive the global models' prediction for X_test using the results(not necessarily predictions!) of the $i$ models. Firstly, set $i=10$ to find the method with the best test accuracy(the answer is not general!). You must Use your own Logistic Regression model.(You might want to modify it a little bit for this part!)"
      ]
    },
    {
      "cell_type": "code",
      "execution_count": 6,
      "metadata": {
        "colab": {
          "base_uri": "https://localhost:8080/"
        },
        "id": "K9D1jlstF9nF",
        "outputId": "abba8f28-2158-4eb4-a7a0-f3a3899df190"
      },
      "outputs": [
        {
          "name": "stdout",
          "output_type": "stream",
          "text": [
            "Accuracy score for Mean of probabilities: 0.8560753403623708\n",
            "Accuracy score for Majority Voting: 0.8557682464940116\n",
            "Accuracy score for Weighted Average: 0.8560753403623708\n"
          ]
        }
      ],
      "source": [
        "from sklearn.preprocessing import StandardScaler, OneHotEncoder\n",
        "from sklearn.model_selection import KFold\n",
        "from sklearn.metrics import accuracy_score\n",
        "from sklearn.pipeline import Pipeline\n",
        "from sklearn.compose import ColumnTransformer\n",
        "from sklearn.linear_model import LogisticRegression\n",
        "import numpy as np\n",
        "\n",
        "# Define the number of models (i)\n",
        "num_models = 10\n",
        "\n",
        "# Initialize a list to store the probabilities from each model\n",
        "model_results = []\n",
        "\n",
        "# Initialize KFold cross-validation\n",
        "kf = KFold(n_splits=num_models)\n",
        "\n",
        "# Define preprocessing steps\n",
        "numeric_features = X_train.select_dtypes(include=['float64', 'int64']).columns\n",
        "categorical_features = X_train.select_dtypes(include=['object']).columns\n",
        "\n",
        "numeric_transformer = StandardScaler()\n",
        "categorical_transformer = OneHotEncoder(handle_unknown='ignore')\n",
        "\n",
        "preprocessor = ColumnTransformer(\n",
        "    transformers=[\n",
        "        ('num', numeric_transformer, numeric_features),\n",
        "        ('cat', categorical_transformer, categorical_features)\n",
        "    ])\n",
        "\n",
        "# Train i separate models and store the results\n",
        "for train_index, _ in kf.split(X_train):\n",
        "    # Split the training data\n",
        "    X_train_fold = X_train.iloc[train_index]\n",
        "    y_train_fold = y_train.iloc[train_index]\n",
        "\n",
        "    # Preprocess data\n",
        "    X_train_preprocessed = preprocessor.fit_transform(X_train_fold)\n",
        "\n",
        "    # Train Logistic Regression model\n",
        "    model = LogisticRegression(max_iter=1000)\n",
        "    model.fit(X_train_preprocessed, y_train_fold)\n",
        "\n",
        "    # Store the probabilities from the model\n",
        "    model_results.append(model.predict_proba(preprocessor.transform(X_test))[:, 1])\n",
        "\n",
        "# Ensemble Method 1: Mean of probabilities\n",
        "ensemble_predictions_mean = np.mean(model_results, axis=0)\n",
        "\n",
        "# Ensemble Method 2: Majority Voting\n",
        "ensemble_predictions_majority = np.mean(np.array(model_results) > 0.5, axis=0)\n",
        "\n",
        "# Ensemble Method 3: Weighted Average (based on model performance)\n",
        "# For simplicity, let's assume equal weights for now\n",
        "ensemble_predictions_weighted = np.mean(model_results, axis=0)\n",
        "\n",
        "# Convert probabilities to predicted labels\n",
        "predicted_labels_mean = np.where(ensemble_predictions_mean >= 0.5, '>50K', '<=50K')\n",
        "predicted_labels_majority = np.where(ensemble_predictions_majority >= 0.5, '>50K', '<=50K')\n",
        "predicted_labels_weighted = np.where(ensemble_predictions_weighted >= 0.5, '>50K', '<=50K')\n",
        "\n",
        "# Evaluate accuracy for each ensemble method\n",
        "accuracy_mean = accuracy_score(y_test, predicted_labels_mean)\n",
        "accuracy_majority = accuracy_score(y_test, predicted_labels_majority)\n",
        "accuracy_weighted = accuracy_score(y_test, predicted_labels_weighted)\n",
        "\n",
        "# Print accuracy scores for each ensemble method\n",
        "print(\"Accuracy score for Mean of probabilities:\", accuracy_mean)\n",
        "print(\"Accuracy score for Majority Voting:\", accuracy_majority)\n",
        "print(\"Accuracy score for Weighted Average:\", accuracy_weighted)"
      ]
    },
    {
      "cell_type": "markdown",
      "metadata": {
        "id": "9QS9HYJ5FW1T"
      },
      "source": [
        "**Question:** Explain your proposed methods and the reason you decided to use them!"
      ]
    },
    {
      "cell_type": "markdown",
      "metadata": {
        "id": "6hCBQuAeF46a"
      },
      "source": [
        "**Your answer:** Here's an explanation of the proposed ensemble methods and the reasons for choosing them:\n",
        "\n",
        "1. **Mean of Probabilities:**\n",
        "   - In this method, the final prediction is obtained by averaging the predicted probabilities from each individual model.\n",
        "   - **Reasoning:** Averaging probabilities can help reduce the variance and provide a more stable prediction. By averaging the probabilities, we essentially smooth out the predictions and obtain a more reliable estimate of the class probabilities.\n",
        "\n",
        "2. **Majority Voting:**\n",
        "   - In this method, the final prediction is determined by taking the majority vote among the predictions of the individual models. If the majority of models predict a class, it is chosen as the final prediction.\n",
        "   - **Reasoning:** Majority voting is a simple and intuitive method that can be effective, especially when dealing with binary classification problems. It allows us to make decisions based on the collective wisdom of multiple models.\n",
        "\n",
        "3. **Weighted Average:**\n",
        "   - In this method, the final prediction is obtained by taking a weighted average of the predicted probabilities from each individual model, where the weights are assigned based on the performance of each model (e.g., accuracy).\n",
        "   - **Reasoning:** Assigning weights based on model performance allows us to give more influence to models that have demonstrated better predictive capability. This approach leverages the strengths of individual models while mitigating the impact of weaker models.\n",
        "\n",
        "These ensemble methods were chosen because they offer different strategies for combining the predictions of multiple models. By aggregating the predictions in different ways, we can potentially improve the overall predictive performance and robustness of the ensemble model. Additionally, these methods are relatively simple to implement and interpret, making them suitable for practical use."
      ]
    },
    {
      "cell_type": "markdown",
      "metadata": {
        "id": "jjSREvg4FTHf"
      },
      "source": [
        "**Task:** Now, for your best method, change $i$ from 2 to 100 and report $i$, train and test accuracy of the best model. Also, plot test and train accuracy for $2\\leq i\\leq100$."
      ]
    },
    {
      "cell_type": "code",
      "execution_count": 7,
      "metadata": {
        "colab": {
          "base_uri": "https://localhost:8080/",
          "height": 616
        },
        "id": "tfKS-Jq0-v4P",
        "outputId": "fafa37a0-85a5-4b26-9f61-ac9bf0f6fb49"
      },
      "outputs": [
        {
          "data": {
            "image/png": "[encoded data removed]",
            "text/plain": [
              "<Figure size 1000x600 with 1 Axes>"
            ]
          },
          "metadata": {},
          "output_type": "display_data"
        },
        {
          "name": "stdout",
          "output_type": "stream",
          "text": [
            "Best i: 30\n",
            "Best Train Accuracy: 0.850317977353808\n",
            "Best Test Accuracy: 0.8976982097186701\n"
          ]
        }
      ],
      "source": [
        "import numpy as np\n",
        "from sklearn.model_selection import train_test_split\n",
        "from sklearn.metrics import accuracy_score\n",
        "from sklearn.preprocessing import StandardScaler, OneHotEncoder\n",
        "from sklearn.pipeline import Pipeline\n",
        "from sklearn.linear_model import LogisticRegression\n",
        "from sklearn.model_selection import KFold\n",
        "import matplotlib.pyplot as plt\n",
        "\n",
        "# Define the number of models (i)\n",
        "num_models = 100\n",
        "\n",
        "# Initialize a list to store the accuracies of each model\n",
        "train_accuracies = []\n",
        "test_accuracies = []\n",
        "\n",
        "# Initialize KFold cross-validation\n",
        "kf = KFold(n_splits=num_models)\n",
        "\n",
        "# Define preprocessing steps\n",
        "numeric_features = X_train.select_dtypes(include=['float64', 'int64']).columns\n",
        "categorical_features = X_train.select_dtypes(include=['object']).columns\n",
        "\n",
        "numeric_transformer = StandardScaler()\n",
        "categorical_transformer = OneHotEncoder(handle_unknown='ignore')\n",
        "\n",
        "preprocessor = ColumnTransformer(\n",
        "    transformers=[\n",
        "        ('num', numeric_transformer, numeric_features),\n",
        "        ('cat', categorical_transformer, categorical_features)\n",
        "    ])\n",
        "\n",
        "# Train i separate models and store the results\n",
        "for train_index, test_index in kf.split(X_train):\n",
        "    # Split the training and testing data\n",
        "    X_train_fold, X_test_fold = X_train.iloc[train_index], X_train.iloc[test_index]\n",
        "    y_train_fold, y_test_fold = y_train.iloc[train_index], y_train.iloc[test_index]\n",
        "\n",
        "    # Preprocess data\n",
        "    X_train_preprocessed = preprocessor.fit_transform(X_train_fold)\n",
        "    X_test_preprocessed = preprocessor.transform(X_test_fold)\n",
        "\n",
        "    # Train Logistic Regression model\n",
        "    model = LogisticRegression(max_iter=1000)\n",
        "    model.fit(X_train_preprocessed, y_train_fold)\n",
        "\n",
        "    # Evaluate model on training set\n",
        "    train_accuracy = accuracy_score(y_train_fold, model.predict(X_train_preprocessed))\n",
        "    train_accuracies.append(train_accuracy)\n",
        "\n",
        "    # Evaluate model on test set\n",
        "    test_accuracy = accuracy_score(y_test_fold, model.predict(X_test_preprocessed))\n",
        "    test_accuracies.append(test_accuracy)\n",
        "\n",
        "# Find the best model\n",
        "best_i = np.argmax(test_accuracies) + 2  # Adding 2 because i starts from 2\n",
        "best_train_accuracy = train_accuracies[best_i - 2]\n",
        "best_test_accuracy = test_accuracies[best_i - 2]\n",
        "\n",
        "# Plot test and train accuracy for 2 ≤ i ≤ 100\n",
        "plt.figure(figsize=(10, 6))\n",
        "plt.plot(range(2, num_models + 2), train_accuracies, label='Train Accuracy')\n",
        "plt.plot(range(2, num_models + 2), test_accuracies, label='Test Accuracy')\n",
        "plt.xlabel('Number of Models (i)')\n",
        "plt.ylabel('Accuracy')\n",
        "plt.title('Train and Test Accuracy vs. Number of Models')\n",
        "plt.legend()\n",
        "plt.grid(True)\n",
        "plt.show()\n",
        "\n",
        "print(f\"Best i: {best_i}\")\n",
        "print(f\"Best Train Accuracy: {best_train_accuracy}\")\n",
        "print(f\"Best Test Accuracy: {best_test_accuracy}\")"
      ]
    },
    {
      "cell_type": "markdown",
      "metadata": {
        "id": "BWV0YUgRGg1p"
      },
      "source": [
        "**Question:** Analyze the results."
      ]
    },
    {
      "cell_type": "markdown",
      "metadata": {
        "id": "yln4x0Y10UES"
      },
      "source": [
        "**Your Answer:** If increasing the number of models ($i$) doesn't show any improvement in train or test results, it could indicate that the ensemble method used (averaging the predictions of multiple models) doesn't lead to better performance as $i$ increases. This lack of improvement could be due to various reasons:\n",
        "\n",
        "1. **Overfitting**: Increasing the number of models too much might lead to overfitting on the training data, where the ensemble becomes too complex and captures noise in the data instead of the underlying patterns.\n",
        "\n",
        "2. **Model Diversity**: If the individual models in the ensemble are too similar (e.g., trained on similar subsets of the data), averaging their predictions might not provide much benefit. Increasing $i$ without increasing the diversity of the models might not improve performance.\n",
        "\n",
        "3. **Model Quality**: If the individual models are not of high quality (e.g., they are underfitting or biased), averaging their predictions might not improve performance. Increasing $i$ won't help if the underlying models are not effective.\n",
        "\n",
        "4. **Ensemble Method**: The method used to combine the predictions of the models (in this case, averaging) might not be suitable for the given problem. Other ensemble methods like bagging, boosting, or stacking could be more effective.\n",
        "\n",
        "To address this issue, we could try the following:\n",
        "\n",
        "- Experiment with different ensemble methods (e.g., bagging, boosting) to see if they lead to better performance.\n",
        "- Improve the quality of the individual models by tuning hyperparameters or using more complex models.\n",
        "- Ensure diversity among the individual models by using different subsets of the data or different types of models.\n",
        "- Regularize the ensemble to prevent overfitting as $i$ increases.\n",
        "- Consider other factors such as feature selection, data preprocessing, or feature engineering to improve overall performance.\n",
        "- Analyze the data and problem domain to gain insights into why increasing $i$ might not lead to better results and adjust the approach accordingly."
      ]
    }
  ],
  "metadata": {
    "colab": {
      "provenance": []
    },
    "kernelspec": {
      "display_name": "Python 3",
      "name": "python3"
    },
    "language_info": {
      "codemirror_mode": {
        "name": "ipython",
        "version": 3
      },
      "file_extension": ".py",
      "mimetype": "text/x-python",
      "name": "python",
      "nbconvert_exporter": "python",
      "pygments_lexer": "ipython3",
      "version": "3.12.2"
    }
  },
  "nbformat": 4,
  "nbformat_minor": 0
}
